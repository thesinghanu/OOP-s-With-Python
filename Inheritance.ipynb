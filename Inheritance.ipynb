{
 "cells": [
  {
   "cell_type": "code",
   "execution_count": 1,
   "id": "04405578",
   "metadata": {},
   "outputs": [],
   "source": [
    "class Vehicle:\n",
    "    def __init__(self,mileage,cost):\n",
    "        self.mileage = mileage\n",
    "        self.cost = cost\n",
    "    def show_vehicle_details(self):\n",
    "        print(\"Mileage of Vehicle is:\",self.mileage)\n",
    "        print(\"Cost of Vehicle is:\",self.cost)\n",
    "        print(\"I am a Vehicle\")"
   ]
  },
  {
   "cell_type": "code",
   "execution_count": 2,
   "id": "6b82493c",
   "metadata": {},
   "outputs": [],
   "source": [
    "v1 = Vehicle(80,800000)"
   ]
  },
  {
   "cell_type": "code",
   "execution_count": 3,
   "id": "c9326193",
   "metadata": {},
   "outputs": [
    {
     "name": "stdout",
     "output_type": "stream",
     "text": [
      "Mileage of Vehicle is: 80\n",
      "Cost of Vehicle is: 800000\n",
      "I am a Vehicle\n"
     ]
    }
   ],
   "source": [
    "v1.show_vehicle_details()"
   ]
  },
  {
   "cell_type": "code",
   "execution_count": 4,
   "id": "fd502459",
   "metadata": {},
   "outputs": [],
   "source": [
    "class Car(Vehicle):\n",
    "    def show_car_details(self):\n",
    "        print(\"I am a Car\")"
   ]
  },
  {
   "cell_type": "code",
   "execution_count": 5,
   "id": "3bfb9323",
   "metadata": {},
   "outputs": [],
   "source": [
    "c = Car(95,1000000)"
   ]
  },
  {
   "cell_type": "code",
   "execution_count": 6,
   "id": "aae1de53",
   "metadata": {},
   "outputs": [
    {
     "name": "stdout",
     "output_type": "stream",
     "text": [
      "Mileage of Vehicle is: 95\n",
      "Cost of Vehicle is: 1000000\n",
      "I am a Vehicle\n"
     ]
    }
   ],
   "source": [
    "c.show_vehicle_details()"
   ]
  },
  {
   "cell_type": "code",
   "execution_count": 7,
   "id": "a6313521",
   "metadata": {},
   "outputs": [
    {
     "name": "stdout",
     "output_type": "stream",
     "text": [
      "I am a Car\n"
     ]
    }
   ],
   "source": [
    "c.show_car_details()"
   ]
  },
  {
   "cell_type": "code",
   "execution_count": null,
   "id": "3b93dd72",
   "metadata": {},
   "outputs": [],
   "source": []
  },
  {
   "cell_type": "code",
   "execution_count": null,
   "id": "c911c46c",
   "metadata": {},
   "outputs": [],
   "source": []
  }
 ],
 "metadata": {
  "kernelspec": {
   "display_name": "Python 3",
   "language": "python",
   "name": "python3"
  },
  "language_info": {
   "codemirror_mode": {
    "name": "ipython",
    "version": 3
   },
   "file_extension": ".py",
   "mimetype": "text/x-python",
   "name": "python",
   "nbconvert_exporter": "python",
   "pygments_lexer": "ipython3",
   "version": "3.8.8"
  }
 },
 "nbformat": 4,
 "nbformat_minor": 5
}
