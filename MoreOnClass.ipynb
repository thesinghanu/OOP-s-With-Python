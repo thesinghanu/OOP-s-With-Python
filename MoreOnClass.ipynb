{
 "cells": [
  {
   "cell_type": "code",
   "execution_count": 4,
   "id": "bc3ff4e1",
   "metadata": {},
   "outputs": [],
   "source": [
    "class Employee:\n",
    "    def __init__(self,name,age,salary,gender):\n",
    "        self.name = name\n",
    "        self.age = age\n",
    "        self.salary = salary\n",
    "        self.gender = gender\n",
    "    def show_employee_details(self):\n",
    "        print(\"Name of Employee:\",self.name)\n",
    "        print(\"Age of Employee:\", self.age)\n",
    "        print(\"Salary of Employee:\", self.salary)\n",
    "        print(\"Gender of Employee:\", self.gender)"
   ]
  },
  {
   "cell_type": "code",
   "execution_count": 5,
   "id": "606a3ae3",
   "metadata": {},
   "outputs": [],
   "source": [
    "e1 = Employee(\"Anubhav\",21,423714,\"Male\")"
   ]
  },
  {
   "cell_type": "code",
   "execution_count": 6,
   "id": "409df903",
   "metadata": {},
   "outputs": [
    {
     "name": "stdout",
     "output_type": "stream",
     "text": [
      "Name of Employee: Anubhav\n",
      "Age of Employee: 21\n",
      "Salary of Employee: 423714\n",
      "Gender of Employee: Male\n"
     ]
    }
   ],
   "source": [
    "e1.show_employee_details()"
   ]
  },
  {
   "cell_type": "code",
   "execution_count": null,
   "id": "c5485bac",
   "metadata": {},
   "outputs": [],
   "source": []
  }
 ],
 "metadata": {
  "kernelspec": {
   "display_name": "Python 3",
   "language": "python",
   "name": "python3"
  },
  "language_info": {
   "codemirror_mode": {
    "name": "ipython",
    "version": 3
   },
   "file_extension": ".py",
   "mimetype": "text/x-python",
   "name": "python",
   "nbconvert_exporter": "python",
   "pygments_lexer": "ipython3",
   "version": "3.8.8"
  }
 },
 "nbformat": 4,
 "nbformat_minor": 5
}
